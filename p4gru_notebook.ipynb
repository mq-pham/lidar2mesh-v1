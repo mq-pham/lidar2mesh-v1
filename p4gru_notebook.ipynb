{
 "cells": [
  {
   "cell_type": "markdown",
   "metadata": {},
   "source": [
    "## P4Gru with SLOPER4D"
   ]
  },
  {
   "cell_type": "code",
   "execution_count": 1,
   "metadata": {},
   "outputs": [],
   "source": [
    "import numpy as np\n",
    "import matplotlib.pyplot as plt\n",
    "\n",
    "import torch\n",
    "\n",
    "from body_model import BodyModel\n",
    "from lbs import lbs, batch_rodrigues\n",
    "\n",
    "from pytorch3d.structures import Meshes\n",
    "from pytorch3d.renderer import TexturesVertex\n",
    "import os\n",
    "import argparse"
   ]
  },
  {
   "cell_type": "code",
   "execution_count": null,
   "metadata": {},
   "outputs": [
    {
     "name": "stdout",
     "output_type": "stream",
     "text": [
      "5\n"
     ]
    }
   ],
   "source": [
    "paths =  [\"./data/SLOPER4D-dataset-zip/seq002_football_001/seq002_football_001_labels.pkl\",\"./data/SLOPER4D-dataset-zip/seq003_street_002/seq003_street_002_labels.pkl\",\"./data/SLOPER4D-dataset-zip/seq005_library_002/seq005_library_002_labels.pkl\",\"./data/SLOPER4D-dataset-zip/seq007_garden_001/seq007_garden_001_labels.pkl\",\"./data/SLOPER4D-dataset-zip/seq008_running_001/seq008_running_001_labels.pkl\",\"./data/SLOPER4D-dataset-zip/seq009_running_002/seq009_running_002_labels.pkl\"]\n",
    "print(len(paths))\n"
   ]
  },
  {
   "cell_type": "code",
   "execution_count": 3,
   "metadata": {},
   "outputs": [
    {
     "name": "stdout",
     "output_type": "stream",
     "text": [
      "Data length: 6495\n",
      "Extracting data...\n",
      "Key: second_person\n",
      "Key: frame_num\n",
      "Key: framerate\n",
      "Key: first_person\n",
      "Key: seqence_name\n",
      "Key: LiDAR_info\n",
      "Key: SMPL_info\n",
      "Key: RGB_info\n",
      "Key: RGB_frames\n",
      "Key: total_frames\n",
      "Data extracted.\n"
     ]
    }
   ],
   "source": [
    "# check data_loader\n",
    "dataloader = True\n",
    "\n",
    "if dataloader:\n",
    "    import data_loader as dataload\n",
    "    #pkl_file = './data/SLOPER4D-dataset-zip/seq002_football_001/seq002_football_001_labels.pkl'\n",
    "    pkl_file = paths[0]\n",
    "    dataset = dataload.SLOPER4D_Dataset(pkl_file, return_torch=True)\n",
    "\n",
    "\n",
    "    npz_file = np.load(pkl_file, allow_pickle=True)\n",
    "    # Extract the data\n",
    "    print(\"Extracting data...\")\n",
    "    data = {}\n",
    "    for key in npz_file.keys():\n",
    "        print(f\"Key: {key}\")\n",
    "        try : \n",
    "            if npz_file[key].shape == ():\n",
    "                print(f\"Content: {npz_file[key]}\")\n",
    "            else:\n",
    "                print(f\"Shape: {npz_file[key].shape}\")\n",
    "        except:\n",
    "            \n",
    "            continue\n",
    "        data[key] = npz_file[key]\n",
    "        print(data[key].shape)\n",
    "    print(\"Data extracted.\")\n"
   ]
  },
  {
   "cell_type": "code",
   "execution_count": null,
   "metadata": {},
   "outputs": [],
   "source": []
  },
  {
   "cell_type": "code",
   "execution_count": null,
   "metadata": {},
   "outputs": [],
   "source": []
  },
  {
   "cell_type": "code",
   "execution_count": null,
   "metadata": {},
   "outputs": [],
   "source": []
  },
  {
   "cell_type": "code",
   "execution_count": null,
   "metadata": {},
   "outputs": [],
   "source": []
  },
  {
   "cell_type": "code",
   "execution_count": null,
   "metadata": {},
   "outputs": [],
   "source": []
  },
  {
   "cell_type": "code",
   "execution_count": null,
   "metadata": {},
   "outputs": [],
   "source": []
  },
  {
   "cell_type": "code",
   "execution_count": null,
   "metadata": {},
   "outputs": [],
   "source": [
    "\n",
    "\n",
    "\n"
   ]
  },
  {
   "cell_type": "code",
   "execution_count": null,
   "metadata": {},
   "outputs": [],
   "source": []
  }
 ],
 "metadata": {
  "kernelspec": {
   "display_name": "lidar2mesh",
   "language": "python",
   "name": "python3"
  },
  "language_info": {
   "codemirror_mode": {
    "name": "ipython",
    "version": 3
   },
   "file_extension": ".py",
   "mimetype": "text/x-python",
   "name": "python",
   "nbconvert_exporter": "python",
   "pygments_lexer": "ipython3",
   "version": "3.9.20"
  }
 },
 "nbformat": 4,
 "nbformat_minor": 2
}

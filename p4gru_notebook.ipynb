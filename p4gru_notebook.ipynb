{
 "cells": [
  {
   "cell_type": "markdown",
   "metadata": {},
   "source": [
    "## P4Gru with SLOPER4D"
   ]
  },
  {
   "cell_type": "code",
   "execution_count": 1,
   "metadata": {},
   "outputs": [],
   "source": [
    "import numpy as np\n",
    "import matplotlib.pyplot as plt\n",
    "\n",
    "import torch\n",
    "\n",
    "from body_model import BodyModel\n",
    "from lbs import lbs, batch_rodrigues\n",
    "\n",
    "from pytorch3d.structures import Meshes\n",
    "from pytorch3d.renderer import TexturesVertex\n",
    "import os\n",
    "import argparse"
   ]
  },
  {
   "cell_type": "code",
   "execution_count": 2,
   "metadata": {},
   "outputs": [
    {
     "name": "stdout",
     "output_type": "stream",
     "text": [
      "Data length: 5324\n",
      "Extracting data...\n",
      "Key: second_person\n",
      "Key: frame_num\n",
      "Key: framerate\n",
      "Key: lidar_params\n",
      "Key: mocap_params\n",
      "Key: first_person\n",
      "Key: seqence_name\n",
      "Key: LiDAR_info\n",
      "Key: SMPL_info\n",
      "Key: RGB_info\n",
      "Key: RGB_frames\n",
      "Key: total_frames\n",
      "Data extracted.\n"
     ]
    }
   ],
   "source": [
    "# check data_loader\n",
    "dataloader = True\n",
    "if dataloader:\n",
    "    import data_loader as dataload\n",
    "    pkl_file = './data/SLOPER4D/seq002_football_001/seq002_football_001_labels.pkl'\n",
    "    dataset = dataload.SLOPER4D_Dataset(pkl_file, return_torch=True)\n",
    "\n",
    "\n",
    "    npz_file = np.load(pkl_file, allow_pickle=True)\n",
    "    # Extract the data\n",
    "    print(\"Extracting data...\")\n",
    "    data = {}\n",
    "    for key in npz_file.keys():\n",
    "        print(f\"Key: {key}\")\n",
    "        try : \n",
    "            if npz_file[key].shape == ():\n",
    "                print(f\"Content: {npz_file[key]}\")\n",
    "            else:\n",
    "                print(f\"Shape: {npz_file[key].shape}\")\n",
    "        except:\n",
    "            \n",
    "            continue\n",
    "        data[key] = npz_file[key]\n",
    "        print(data[key].shape)\n",
    "    print(\"Data extracted.\")\n"
   ]
  },
  {
   "cell_type": "code",
   "execution_count": 4,
   "metadata": {},
   "outputs": [
    {
     "name": "stdout",
     "output_type": "stream",
     "text": [
      "776\n"
     ]
    }
   ],
   "source": [
    "pc = npz_file[\"second_person\"][\"point_clouds\"]\n",
    "nbp = 0\n",
    "for i in range(len(pc)):\n",
    "    nbp = max(nbp, len(pc[i]))\n",
    "print(nbp)"
   ]
  },
  {
   "cell_type": "code",
   "execution_count": 2,
   "metadata": {},
   "outputs": [
    {
     "name": "stdout",
     "output_type": "stream",
     "text": [
      "6\n"
     ]
    }
   ],
   "source": [
    "paths= [\"./data/SLOPER4D-dataset-zip/seq002_football_001/seq002_football_001_labels.pkl\",\"./data/SLOPER4D-dataset-zip/seq003_street_002/seq003_street_002_labels.pkl\",\"./data/SLOPER4D-dataset-zip/seq005_library_002/seq005_library_002_labels.pkl\",\"./data/SLOPER4D-dataset-zip/seq007_garden_001/seq007_garden_001_labels.pkl\",\"./data/SLOPER4D-dataset-zip/seq008_running_001/seq008_running_001_labels.pkl\",\"./data/SLOPER4D-dataset-zip/seq009_running_002/seq009_running_002_labels.pkl\"]\n",
    "print(len(paths))"
   ]
  },
  {
   "cell_type": "code",
   "execution_count": 1,
   "metadata": {},
   "outputs": [],
   "source": [
    "import yaml\n",
    "from typing import Dict, Any\n",
    "from pathlib import Path\n",
    "\n",
    "def load_config(config_filename: str = \"config_mac.yaml\") -> Dict[str, Any]:\n",
    "    config_path = './'+ config_filename\n",
    "\n",
    "    try:\n",
    "        with open(config_path, 'r') as config_file:\n",
    "            config = yaml.safe_load(config_file)\n",
    "        return config\n",
    "    except FileNotFoundError:\n",
    "        raise FileNotFoundError(f\"Configuration file not found: {config_path}\")\n",
    "    except yaml.YAMLError as e:\n",
    "        raise yaml.YAMLError(f\"Error parsing YAML file: {e}\")\n",
    "config = load_config(\"config_mac.yaml\")\n"
   ]
  },
  {
   "cell_type": "code",
   "execution_count": 3,
   "metadata": {},
   "outputs": [
    {
     "ename": "TypeError",
     "evalue": "__init__() got an unexpected keyword argument 'pkl_file'",
     "output_type": "error",
     "traceback": [
      "\u001b[0;31m---------------------------------------------------------------------------\u001b[0m",
      "\u001b[0;31mTypeError\u001b[0m                                 Traceback (most recent call last)",
      "Cell \u001b[0;32mIn[3], line 7\u001b[0m\n\u001b[1;32m      5\u001b[0m dataset \u001b[38;5;241m=\u001b[39m {} \n\u001b[1;32m      6\u001b[0m \u001b[38;5;28;01mfor\u001b[39;00m p \u001b[38;5;129;01min\u001b[39;00m \u001b[38;5;28mrange\u001b[39m(\u001b[38;5;28mlen\u001b[39m(pkl_files)):\n\u001b[0;32m----> 7\u001b[0m     d \u001b[38;5;241m=\u001b[39m \u001b[43mSLOPER4D_Dataset\u001b[49m\u001b[43m(\u001b[49m\u001b[43mpkl_file\u001b[49m\u001b[38;5;241;43m=\u001b[39;49m\u001b[38;5;28;43mstr\u001b[39;49m\u001b[43m(\u001b[49m\u001b[43mpkl_files\u001b[49m\u001b[43m[\u001b[49m\u001b[43mp\u001b[49m\u001b[43m]\u001b[49m\u001b[43m)\u001b[49m\u001b[43m,\u001b[49m\n\u001b[1;32m      8\u001b[0m \u001b[43m                                \u001b[49m\u001b[43mdevice\u001b[49m\u001b[38;5;241;43m=\u001b[39;49m\u001b[43mtorch\u001b[49m\u001b[38;5;241;43m.\u001b[39;49m\u001b[43mdevice\u001b[49m\u001b[43m(\u001b[49m\u001b[38;5;124;43m\"\u001b[39;49m\u001b[38;5;124;43mcuda\u001b[39;49m\u001b[38;5;124;43m\"\u001b[39;49m\u001b[43m \u001b[49m\u001b[38;5;28;43;01mif\u001b[39;49;00m\u001b[43m \u001b[49m\u001b[43mtorch\u001b[49m\u001b[38;5;241;43m.\u001b[39;49m\u001b[43mcuda\u001b[49m\u001b[38;5;241;43m.\u001b[39;49m\u001b[43mis_available\u001b[49m\u001b[43m(\u001b[49m\u001b[43m)\u001b[49m\u001b[43m \u001b[49m\u001b[38;5;28;43;01melse\u001b[39;49;00m\u001b[43m \u001b[49m\u001b[38;5;124;43m\"\u001b[39;49m\u001b[38;5;124;43mcpu\u001b[39;49m\u001b[38;5;124;43m\"\u001b[39;49m\u001b[43m)\u001b[49m\u001b[43m,\u001b[49m\n\u001b[1;32m      9\u001b[0m \u001b[43m                                \u001b[49m\u001b[43mreturn_torch\u001b[49m\u001b[38;5;241;43m=\u001b[39;49m\u001b[38;5;28;43;01mTrue\u001b[39;49;00m\u001b[43m,\u001b[49m\n\u001b[1;32m     10\u001b[0m \u001b[43m                                \u001b[49m\u001b[43mfix_pts_num\u001b[49m\u001b[38;5;241;43m=\u001b[39;49m\u001b[38;5;241;43m1024\u001b[39;49m\u001b[43m,\u001b[49m\n\u001b[1;32m     11\u001b[0m \u001b[43m                                \u001b[49m\u001b[43mprint_info\u001b[49m\u001b[38;5;241;43m=\u001b[39;49m\u001b[38;5;28;43;01mTrue\u001b[39;49;00m\u001b[43m,\u001b[49m\n\u001b[1;32m     12\u001b[0m \u001b[43m                                \u001b[49m\u001b[43mreturn_smpl\u001b[49m\u001b[38;5;241;43m=\u001b[39;49m\u001b[38;5;28;43;01mTrue\u001b[39;49;00m\u001b[43m)\u001b[49m\n\u001b[1;32m     13\u001b[0m     dataset\u001b[38;5;241m.\u001b[39mupdate([(\u001b[38;5;28mstr\u001b[39m(p),d)])\n",
      "\u001b[0;31mTypeError\u001b[0m: __init__() got an unexpected keyword argument 'pkl_file'"
     ]
    }
   ],
   "source": [
    "from data_loader import SLOPER4D_Dataset, create_dataloaders_all\n",
    "import torch\n",
    "config = load_config(\"config_mac.yaml\")\n",
    "pkl_files = config['data']['paths']\n",
    "dataset = {} \n",
    "for p in range(len(pkl_files)):\n",
    "    d = SLOPER4D_Dataset(pkl_file=str(pkl_files[p]),\n",
    "                                device=torch.device(\"cuda\" if torch.cuda.is_available() else \"cpu\"),\n",
    "                                return_torch=True,\n",
    "                                fix_pts_num=1024,\n",
    "                                print_info=True,\n",
    "                                return_smpl=True)\n",
    "    dataset.update([(str(p),d)])\n",
    "\n"
   ]
  },
  {
   "cell_type": "code",
   "execution_count": null,
   "metadata": {},
   "outputs": [],
   "source": []
  },
  {
   "cell_type": "code",
   "execution_count": null,
   "metadata": {},
   "outputs": [],
   "source": []
  },
  {
   "cell_type": "code",
   "execution_count": null,
   "metadata": {},
   "outputs": [],
   "source": [
    "\n",
    "\n",
    "\n"
   ]
  },
  {
   "cell_type": "code",
   "execution_count": null,
   "metadata": {},
   "outputs": [],
   "source": []
  }
 ],
 "metadata": {
  "kernelspec": {
   "display_name": "lidar2mesh",
   "language": "python",
   "name": "python3"
  },
  "language_info": {
   "codemirror_mode": {
    "name": "ipython",
    "version": 3
   },
   "file_extension": ".py",
   "mimetype": "text/x-python",
   "name": "python",
   "nbconvert_exporter": "python",
   "pygments_lexer": "ipython3",
   "version": "3.9.20"
  }
 },
 "nbformat": 4,
 "nbformat_minor": 2
}
